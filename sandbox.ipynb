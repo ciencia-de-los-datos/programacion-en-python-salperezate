{
 "cells": [
  {
   "cell_type": "code",
   "execution_count": null,
   "metadata": {},
   "outputs": [],
   "source": [
    "\"\"\"\n",
    "Genere un diccionario que contengan como clave la columna 1 y como valor la suma de\n",
    "los valores de la columna 5 sobre todo el archivo.\n",
    "\n",
    "El resultado debe ser:\n",
    "{\n",
    "    'A': 177,\n",
    "    'B': 187,\n",
    "    'C': 114,\n",
    "    'D': 136,\n",
    "    'E': 324\n",
    "}\n",
    "\n",
    "\"\"\"\n",
    "\n",
    "def pregunta_12():\n",
    "\n",
    "    suma_por_letra = {}\n",
    "\n",
    "    for fila in df:\n",
    "        numero = fila[1]\n",
    "        elementos = fila[3].split(',')\n",
    "        for elemento in elementos:\n",
    "            letra = elemento.split(',')[0]\n",
    "            if letra in suma_por_letra:\n",
    "                suma_por_letra[letra] += float(numero)\n",
    "            else:\n",
    "                suma_por_letra[letra] = float(numero)     \n",
    "\n",
    "    return dict(sorted(suma_por_letra.items()))"
   ]
  }
 ],
 "metadata": {
  "language_info": {
   "name": "python"
  },
  "orig_nbformat": 4
 },
 "nbformat": 4,
 "nbformat_minor": 2
}
